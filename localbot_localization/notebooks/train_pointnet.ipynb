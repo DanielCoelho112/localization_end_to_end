{
 "cells": [
  {
   "cell_type": "markdown",
   "metadata": {},
   "source": [
    "### Imports"
   ]
  },
  {
   "cell_type": "code",
   "execution_count": 4,
   "metadata": {},
   "outputs": [
    {
     "name": "stdout",
     "output_type": "stream",
     "text": [
      "torch.Size([100000, 3])\n"
     ]
    }
   ],
   "source": [
    "import random\n",
    "import torch\n",
    "import torch.nn.parallel\n",
    "import torch.optim as optim\n",
    "import torch.nn as nn\n",
    "import torch.utils.data\n",
    "from localbot_localization.src.models.pointnet import PointNet, feature_transform_regularizer\n",
    "from localbot_localization.src.dataset import LocalBotDataset\n",
    "import torch.nn.functional as F\n",
    "from tqdm import tqdm\n",
    "import numpy as np\n",
    "from datetime import datetime\n",
    "import matplotlib.pyplot as plt\n",
    "from torch.autograd import Variable"
   ]
  },
  {
   "cell_type": "markdown",
   "metadata": {},
   "source": [
    "### Load the dataset"
   ]
  },
  {
   "cell_type": "code",
   "execution_count": 5,
   "metadata": {},
   "outputs": [],
   "source": [
    "train_dataset = LocalBotDataset(seq=110, npoints=2000)\n",
    "test_dataset = LocalBotDataset(seq=111, npoints=2000)\n",
    "batch_size = 4"
   ]
  },
  {
   "cell_type": "markdown",
   "metadata": {},
   "source": [
    "### Pytorch data loader"
   ]
  },
  {
   "cell_type": "code",
   "execution_count": 6,
   "metadata": {},
   "outputs": [],
   "source": [
    "train_dataloader = torch.utils.data.DataLoader(train_dataset, batch_size=batch_size, shuffle=True,  num_workers=2)\n",
    "test_dataloader = torch.utils.data.DataLoader(test_dataset, batch_size=batch_size, shuffle=False,  num_workers=2)\n",
    "# Num_workers tells the data loader instance how many sub-processes to use for data loading. If the num_worker is zero (default) the GPU has to wait for CPU to load data."
   ]
  },
  {
   "cell_type": "code",
   "execution_count": 7,
   "metadata": {},
   "outputs": [
    {
     "name": "stdout",
     "output_type": "stream",
     "text": [
      "92 23\n"
     ]
    }
   ],
   "source": [
    "print(len(train_dataset), len(test_dataset))"
   ]
  },
  {
   "cell_type": "markdown",
   "metadata": {},
   "source": [
    "### Build the model"
   ]
  },
  {
   "cell_type": "code",
   "execution_count": 8,
   "metadata": {},
   "outputs": [],
   "source": [
    "feature_transform = False # lets use feature transform\n",
    "model = PointNet(feature_transform=feature_transform)\n"
   ]
  },
  {
   "cell_type": "markdown",
   "metadata": {},
   "source": [
    "### Optimizer and Loss"
   ]
  },
  {
   "cell_type": "code",
   "execution_count": 9,
   "metadata": {},
   "outputs": [],
   "source": [
    "optimizer = optim.Adam(model.parameters(), lr=0.001) # the most common optimizer in DL\n",
    "scheduler = optim.lr_scheduler.StepLR(optimizer, step_size=20, gamma=0.5) # variable learning rate. After 5 epochs, the lr decays 0.5\n",
    "criterion = nn.MSELoss() # TODO: search for a better loss function!! Should we predict the translaction and rotation separately?? RESEARCH!"
   ]
  },
  {
   "cell_type": "code",
   "execution_count": 10,
   "metadata": {},
   "outputs": [
    {
     "data": {
      "text/plain": [
       "PointNet(\n",
       "  (feat): PointNetfeat(\n",
       "    (stn): STN3d(\n",
       "      (conv1): Conv1d(3, 64, kernel_size=(1,), stride=(1,))\n",
       "      (conv2): Conv1d(64, 128, kernel_size=(1,), stride=(1,))\n",
       "      (conv3): Conv1d(128, 1024, kernel_size=(1,), stride=(1,))\n",
       "      (fc1): Linear(in_features=1024, out_features=512, bias=True)\n",
       "      (fc2): Linear(in_features=512, out_features=256, bias=True)\n",
       "      (fc3): Linear(in_features=256, out_features=9, bias=True)\n",
       "      (relu): ReLU()\n",
       "      (bn1): BatchNorm1d(64, eps=1e-05, momentum=0.1, affine=True, track_running_stats=True)\n",
       "      (bn2): BatchNorm1d(128, eps=1e-05, momentum=0.1, affine=True, track_running_stats=True)\n",
       "      (bn3): BatchNorm1d(1024, eps=1e-05, momentum=0.1, affine=True, track_running_stats=True)\n",
       "      (bn4): BatchNorm1d(512, eps=1e-05, momentum=0.1, affine=True, track_running_stats=True)\n",
       "      (bn5): BatchNorm1d(256, eps=1e-05, momentum=0.1, affine=True, track_running_stats=True)\n",
       "    )\n",
       "    (conv1): Conv1d(3, 64, kernel_size=(1,), stride=(1,))\n",
       "    (conv2): Conv1d(64, 128, kernel_size=(1,), stride=(1,))\n",
       "    (conv3): Conv1d(128, 1024, kernel_size=(1,), stride=(1,))\n",
       "    (bn1): BatchNorm1d(64, eps=1e-05, momentum=0.1, affine=True, track_running_stats=True)\n",
       "    (bn2): BatchNorm1d(128, eps=1e-05, momentum=0.1, affine=True, track_running_stats=True)\n",
       "    (bn3): BatchNorm1d(1024, eps=1e-05, momentum=0.1, affine=True, track_running_stats=True)\n",
       "  )\n",
       "  (fc1): Linear(in_features=1024, out_features=512, bias=True)\n",
       "  (fc2): Linear(in_features=512, out_features=256, bias=True)\n",
       "  (fc3): Linear(in_features=256, out_features=6, bias=True)\n",
       "  (dropout): Dropout(p=0.3, inplace=False)\n",
       "  (bn1): BatchNorm1d(512, eps=1e-05, momentum=0.1, affine=True, track_running_stats=True)\n",
       "  (bn2): BatchNorm1d(256, eps=1e-05, momentum=0.1, affine=True, track_running_stats=True)\n",
       "  (relu): ReLU()\n",
       ")"
      ]
     },
     "execution_count": 10,
     "metadata": {},
     "output_type": "execute_result"
    }
   ],
   "source": [
    "model.cuda() # move all model parameters to the GPU"
   ]
  },
  {
   "cell_type": "code",
   "execution_count": 11,
   "metadata": {},
   "outputs": [],
   "source": [
    "num_batch = len(train_dataset) / batch_size"
   ]
  },
  {
   "cell_type": "markdown",
   "metadata": {},
   "source": [
    "### Training loop"
   ]
  },
  {
   "cell_type": "code",
   "execution_count": 12,
   "metadata": {},
   "outputs": [
    {
     "name": "stderr",
     "output_type": "stream",
     "text": [
      "/home/danc/.local/lib/python3.8/site-packages/torch/optim/lr_scheduler.py:118: UserWarning: Detected call of `lr_scheduler.step()` before `optimizer.step()`. In PyTorch 1.1.0 and later, you should call them in the opposite order: `optimizer.step()` before `lr_scheduler.step()`.  Failure to do this will result in PyTorch skipping the first value of the learning rate schedule. See more details at https://pytorch.org/docs/stable/optim.html#how-to-adjust-learning-rate\n",
      "  warnings.warn(\"Detected call of `lr_scheduler.step()` before `optimizer.step()`. \"\n"
     ]
    },
    {
     "name": "stdout",
     "output_type": "stream",
     "text": [
      "epoch 1/20, train_loss: 2.4788, test_loss: 1.9078, duration: 0:00:02.268560\n",
      "epoch 2/20, train_loss: 1.2656, test_loss: 1.4941, duration: 0:00:01.901663\n",
      "epoch 3/20, train_loss: 1.1945, test_loss: 2.4435, duration: 0:00:02.042171\n",
      "epoch 4/20, train_loss: 1.2272, test_loss: 1.5023, duration: 0:00:01.990438\n",
      "epoch 5/20, train_loss: 1.2321, test_loss: 1.7633, duration: 0:00:01.966587\n",
      "epoch 6/20, train_loss: 1.1998, test_loss: 1.6708, duration: 0:00:01.997691\n",
      "epoch 7/20, train_loss: 1.1839, test_loss: 1.5910, duration: 0:00:01.893593\n",
      "epoch 8/20, train_loss: 1.1425, test_loss: 1.5878, duration: 0:00:01.911505\n",
      "epoch 9/20, train_loss: 1.1656, test_loss: 1.4732, duration: 0:00:02.037867\n",
      "epoch 10/20, train_loss: 1.1892, test_loss: 1.4497, duration: 0:00:01.981823\n",
      "epoch 11/20, train_loss: 1.1983, test_loss: 1.3834, duration: 0:00:02.147793\n",
      "epoch 12/20, train_loss: 1.1640, test_loss: 1.3229, duration: 0:00:01.972669\n",
      "epoch 13/20, train_loss: 1.1635, test_loss: 1.3728, duration: 0:00:02.023202\n",
      "epoch 14/20, train_loss: 1.1783, test_loss: 1.3629, duration: 0:00:02.181268\n",
      "epoch 15/20, train_loss: 1.0865, test_loss: 1.3732, duration: 0:00:02.111316\n",
      "epoch 16/20, train_loss: 1.1735, test_loss: 1.4304, duration: 0:00:02.140078\n",
      "epoch 17/20, train_loss: 1.1526, test_loss: 1.5233, duration: 0:00:01.916727\n",
      "epoch 18/20, train_loss: 1.1364, test_loss: 1.4110, duration: 0:00:02.151139\n",
      "epoch 19/20, train_loss: 1.1068, test_loss: 1.4798, duration: 0:00:01.880944\n",
      "epoch 20/20, train_loss: 1.1344, test_loss: 1.3736, duration: 0:00:02.004491\n"
     ]
    }
   ],
   "source": [
    "n_epochs = 20\n",
    "train_losses = np.zeros(n_epochs)\n",
    "test_losses = np.zeros(n_epochs)\n",
    "\n",
    "for epoch in range(n_epochs):\n",
    "    t0 = datetime.now()\n",
    "    scheduler.step() # here we are telling the scheduler that: n_epochs += 1\n",
    "    train_loss = []\n",
    "    for i, data in enumerate(train_dataloader):\n",
    "        points, target = data\n",
    "        #points.shape --> 2,10000,3\n",
    "        #target.shape --> 2,6\n",
    "    \n",
    "        points = points.transpose(2, 1) # 3xN which is what our network is expecting\n",
    "        points, target = points.cuda(), target.cuda() # move data into GPU\n",
    "        \n",
    "        optimizer.zero_grad() # Clears the gradients of all optimized tensors (always needed in the beginning of the training loop)\n",
    "        \n",
    "        model = model.train() # Sets the module in training mode. For example, the dropout module can only be use in training mode.\n",
    "        \n",
    "        #print(points.shape)\n",
    "        \n",
    "        pred, trans, trans_feat = model(points) # our model outputs the pose, and the transformations used,\n",
    "            \n",
    "        loss = criterion(pred, target)\n",
    "        \n",
    "        if feature_transform:\n",
    "            loss += feature_transform_regularizer(trans_feat) * 0.001 ## Regularization! --> Prevent overfitting by adding something to the cost function. The simpler the model the lower the cost function\n",
    "        \n",
    "        \n",
    "        loss.backward() # Computes the gradient of current tensor w.r.t. graph leaves.\n",
    "        optimizer.step() # Performs a single optimization step (parameter update).\n",
    "        \n",
    "        train_loss.append(loss.item())\n",
    "    train_loss = np.mean(train_loss)\n",
    "    \n",
    "    test_loss=[]\n",
    "    for i, data in enumerate(train_dataloader):\n",
    "        points, target = data\n",
    "        points = points.transpose(2, 1) # 3xN which is what our network is expecting\n",
    "        points, target = points.cuda(), target.cuda() # move data into GPU\n",
    "        model = model.eval() # Sets the module in evaluation mode.\n",
    "\n",
    "        pred, _, _ = model(points)\n",
    "        \n",
    "        loss = criterion(pred, target)\n",
    "        \n",
    "        test_loss.append(loss.item())\n",
    "    test_loss = np.mean(test_loss)\n",
    "\n",
    "    # save losses\n",
    "    train_losses[epoch] = train_loss\n",
    "    test_losses[epoch] = test_loss\n",
    "    \n",
    "    dt = datetime.now() - t0\n",
    "    print(f'epoch {epoch+1}/{n_epochs}, train_loss: {train_loss:.4f}, test_loss: {test_loss:.4f}, duration: {dt}')\n",
    "        \n",
    "        \n",
    "        \n",
    "    "
   ]
  },
  {
   "cell_type": "code",
   "execution_count": 13,
   "metadata": {},
   "outputs": [
    {
     "data": {
      "image/png": "[encoded data removed]",
      "text/plain": [
       "<Figure size 432x288 with 1 Axes>"
      ]
     },
     "metadata": {
      "needs_background": "light"
     },
     "output_type": "display_data"
    }
   ],
   "source": [
    "plt.plot(train_losses, label='train loss')\n",
    "plt.plot(test_losses, label='test loss')\n",
    "plt.legend()\n",
    "plt.show()"
   ]
  },
  {
   "cell_type": "code",
   "execution_count": null,
   "metadata": {},
   "outputs": [],
   "source": [
    "torch.save(model.state_dict(), 'pointnet.pth')"
   ]
  },
  {
   "cell_type": "code",
   "execution_count": null,
   "metadata": {},
   "outputs": [],
   "source": [
    "sim_data = Variable(torch.rand(1,3,10000)).cuda()   # batch size = 32, 3 features, n_points = 2500"
   ]
  },
  {
   "cell_type": "code",
   "execution_count": null,
   "metadata": {},
   "outputs": [],
   "source": [
    "model(sim_data)[0].cpu().detach().numpy()"
   ]
  }
 ],
 "metadata": {
  "interpreter": {
   "hash": "916dbcbb3f70747c44a77c7bcd40155683ae19c65e1c03b4aa3499c5328201f1"
  },
  "kernelspec": {
   "display_name": "Python 3.8.10 64-bit",
   "language": "python",
   "name": "python3"
  },
  "language_info": {
   "codemirror_mode": {
    "name": "ipython",
    "version": 3
   },
   "file_extension": ".py",
   "mimetype": "text/x-python",
   "name": "python",
   "nbconvert_exporter": "python",
   "pygments_lexer": "ipython3",
   "version": "3.8.10"
  },
  "orig_nbformat": 4
 },
 "nbformat": 4,
 "nbformat_minor": 2
}
